{
 "cells": [
  {
   "cell_type": "markdown",
   "metadata": {},
   "source": [
    "In this notebook we shall perform basic text processing using NLTK. The steps involved are:\n",
    "1. Load text file\n",
    "2. Split text into sentences\n",
    "3. Split text into words/tokens\n",
    "4. Filter punctuation tokens\n",
    "5. Filter stop words\n",
    "6. Stemming"
   ]
  },
  {
   "cell_type": "markdown",
   "metadata": {},
   "source": [
    "### Read text file"
   ]
  },
  {
   "cell_type": "code",
   "execution_count": 2,
   "metadata": {},
   "outputs": [],
   "source": [
    "import nltk"
   ]
  },
  {
   "cell_type": "code",
   "execution_count": 3,
   "metadata": {},
   "outputs": [],
   "source": [
    "filename = 'FP.txt'"
   ]
  },
  {
   "cell_type": "code",
   "execution_count": 4,
   "metadata": {},
   "outputs": [],
   "source": [
    "file = open(filename, 'rt')"
   ]
  },
  {
   "cell_type": "code",
   "execution_count": 5,
   "metadata": {},
   "outputs": [],
   "source": [
    "text = file.read()"
   ]
  },
  {
   "cell_type": "code",
   "execution_count": 6,
   "metadata": {},
   "outputs": [],
   "source": [
    "file.close()"
   ]
  },
  {
   "cell_type": "code",
   "execution_count": 7,
   "metadata": {},
   "outputs": [
    {
     "data": {
      "text/plain": [
       "'A financial crisis is any of a broad variety of situations in which some financial assets suddenly lose a large part of their nominal value. In the 19th and early 20th centuries, many financial crises were associated with banking panics, and many recessions coincided with these panics. Other situations that are often called financial crises include stock market crashes and the bursting of other financial bubbles, currency crises, and sovereign defaults.[1][2] Financial crises directly result in a loss of paper wealth but do not necessarily result in significant changes in the real economy (e.g. the crisis resulting from the famous tulip mania bubble in the 17th century).\\n\\nMany economists have offered theories about how financial crises develop and how they could be prevented. There is no consensus, however, and financial crises continue to occur from time to time.'"
      ]
     },
     "execution_count": 7,
     "metadata": {},
     "output_type": "execute_result"
    }
   ],
   "source": [
    "text"
   ]
  },
  {
   "cell_type": "markdown",
   "metadata": {},
   "source": [
    "### Split text into sentences"
   ]
  },
  {
   "cell_type": "code",
   "execution_count": 8,
   "metadata": {},
   "outputs": [],
   "source": [
    "from nltk import sent_tokenize"
   ]
  },
  {
   "cell_type": "code",
   "execution_count": 9,
   "metadata": {},
   "outputs": [],
   "source": [
    "sentences = sent_tokenize(text)"
   ]
  },
  {
   "cell_type": "code",
   "execution_count": 13,
   "metadata": {},
   "outputs": [
    {
     "data": {
      "text/plain": [
       "7"
      ]
     },
     "execution_count": 13,
     "metadata": {},
     "output_type": "execute_result"
    }
   ],
   "source": [
    "len(sentences)"
   ]
  },
  {
   "cell_type": "code",
   "execution_count": 12,
   "metadata": {},
   "outputs": [
    {
     "name": "stdout",
     "output_type": "stream",
     "text": [
      "A financial crisis is any of a broad variety of situations in which some financial assets suddenly lose a large part of their nominal value. \n",
      "\n",
      "In the 19th and early 20th centuries, many financial crises were associated with banking panics, and many recessions coincided with these panics. \n",
      "\n",
      "Other situations that are often called financial crises include stock market crashes and the bursting of other financial bubbles, currency crises, and sovereign defaults. \n",
      "\n",
      "[1][2] Financial crises directly result in a loss of paper wealth but do not necessarily result in significant changes in the real economy (e.g. \n",
      "\n",
      "the crisis resulting from the famous tulip mania bubble in the 17th century). \n",
      "\n",
      "Many economists have offered theories about how financial crises develop and how they could be prevented. \n",
      "\n",
      "There is no consensus, however, and financial crises continue to occur from time to time. \n",
      "\n"
     ]
    }
   ],
   "source": [
    "for sent in sentences:\n",
    "    print(sent,'\\n')"
   ]
  },
  {
   "cell_type": "markdown",
   "metadata": {},
   "source": [
    "### Split text into words/tokens"
   ]
  },
  {
   "cell_type": "code",
   "execution_count": 18,
   "metadata": {},
   "outputs": [],
   "source": [
    "from nltk import word_tokenize"
   ]
  },
  {
   "cell_type": "code",
   "execution_count": 15,
   "metadata": {},
   "outputs": [],
   "source": [
    "tokens = word_tokenize(text)"
   ]
  },
  {
   "cell_type": "code",
   "execution_count": 17,
   "metadata": {},
   "outputs": [
    {
     "data": {
      "text/plain": [
       "159"
      ]
     },
     "execution_count": 17,
     "metadata": {},
     "output_type": "execute_result"
    }
   ],
   "source": [
    "len(tokens)"
   ]
  },
  {
   "cell_type": "code",
   "execution_count": 21,
   "metadata": {},
   "outputs": [
    {
     "name": "stdout",
     "output_type": "stream",
     "text": [
      "['A', 'financial', 'crisis', 'is', 'any', 'of', 'a', 'broad', 'variety', 'of', 'situations', 'in', 'which', 'some', 'financial', 'assets', 'suddenly', 'lose', 'a', 'large', 'part', 'of', 'their', 'nominal', 'value', '.', 'In', 'the', '19th', 'and', 'early', '20th', 'centuries', ',', 'many', 'financial', 'crises', 'were', 'associated', 'with', 'banking', 'panics', ',', 'and', 'many', 'recessions', 'coincided', 'with', 'these', 'panics', '.', 'Other', 'situations', 'that', 'are', 'often', 'called', 'financial', 'crises', 'include', 'stock', 'market', 'crashes', 'and', 'the', 'bursting', 'of', 'other', 'financial', 'bubbles', ',', 'currency', 'crises', ',', 'and', 'sovereign', 'defaults', '.', '[', '1', ']', '[', '2', ']', 'Financial', 'crises', 'directly', 'result', 'in', 'a', 'loss', 'of', 'paper', 'wealth', 'but', 'do', 'not', 'necessarily', 'result', 'in', 'significant', 'changes', 'in', 'the', 'real', 'economy', '(', 'e.g', '.', 'the', 'crisis', 'resulting', 'from', 'the', 'famous', 'tulip', 'mania', 'bubble', 'in', 'the', '17th', 'century', ')', '.', 'Many', 'economists', 'have', 'offered', 'theories', 'about', 'how', 'financial', 'crises', 'develop', 'and', 'how', 'they', 'could', 'be', 'prevented', '.', 'There', 'is', 'no', 'consensus', ',', 'however', ',', 'and', 'financial', 'crises', 'continue', 'to', 'occur', 'from', 'time', 'to', 'time', '.']\n"
     ]
    }
   ],
   "source": [
    "#split occurs at each white space and punctuation\n",
    "print(tokens)"
   ]
  },
  {
   "cell_type": "code",
   "execution_count": 25,
   "metadata": {},
   "outputs": [],
   "source": [
    "alpha_tokens = [token for token in tokens if token.isalpha()]"
   ]
  },
  {
   "cell_type": "code",
   "execution_count": 32,
   "metadata": {},
   "outputs": [
    {
     "data": {
      "text/plain": [
       "134"
      ]
     },
     "execution_count": 32,
     "metadata": {},
     "output_type": "execute_result"
    }
   ],
   "source": [
    "len(alpha_tokens)"
   ]
  },
  {
   "cell_type": "code",
   "execution_count": 26,
   "metadata": {},
   "outputs": [
    {
     "name": "stdout",
     "output_type": "stream",
     "text": [
      "['A', 'financial', 'crisis', 'is', 'any', 'of', 'a', 'broad', 'variety', 'of', 'situations', 'in', 'which', 'some', 'financial', 'assets', 'suddenly', 'lose', 'a', 'large', 'part', 'of', 'their', 'nominal', 'value', 'In', 'the', 'and', 'early', 'centuries', 'many', 'financial', 'crises', 'were', 'associated', 'with', 'banking', 'panics', 'and', 'many', 'recessions', 'coincided', 'with', 'these', 'panics', 'Other', 'situations', 'that', 'are', 'often', 'called', 'financial', 'crises', 'include', 'stock', 'market', 'crashes', 'and', 'the', 'bursting', 'of', 'other', 'financial', 'bubbles', 'currency', 'crises', 'and', 'sovereign', 'defaults', 'Financial', 'crises', 'directly', 'result', 'in', 'a', 'loss', 'of', 'paper', 'wealth', 'but', 'do', 'not', 'necessarily', 'result', 'in', 'significant', 'changes', 'in', 'the', 'real', 'economy', 'the', 'crisis', 'resulting', 'from', 'the', 'famous', 'tulip', 'mania', 'bubble', 'in', 'the', 'century', 'Many', 'economists', 'have', 'offered', 'theories', 'about', 'how', 'financial', 'crises', 'develop', 'and', 'how', 'they', 'could', 'be', 'prevented', 'There', 'is', 'no', 'consensus', 'however', 'and', 'financial', 'crises', 'continue', 'to', 'occur', 'from', 'time', 'to', 'time']\n"
     ]
    }
   ],
   "source": [
    "print(alpha_tokens)"
   ]
  },
  {
   "cell_type": "markdown",
   "metadata": {},
   "source": [
    "### Filter stop words"
   ]
  },
  {
   "cell_type": "code",
   "execution_count": 28,
   "metadata": {},
   "outputs": [],
   "source": [
    "from nltk.corpus import stopwords"
   ]
  },
  {
   "cell_type": "code",
   "execution_count": 29,
   "metadata": {},
   "outputs": [],
   "source": [
    "stop_words = stopwords.words('english')"
   ]
  },
  {
   "cell_type": "code",
   "execution_count": 31,
   "metadata": {},
   "outputs": [
    {
     "data": {
      "text/plain": [
       "179"
      ]
     },
     "execution_count": 31,
     "metadata": {},
     "output_type": "execute_result"
    }
   ],
   "source": [
    "len(stop_words)"
   ]
  },
  {
   "cell_type": "code",
   "execution_count": 30,
   "metadata": {},
   "outputs": [
    {
     "name": "stdout",
     "output_type": "stream",
     "text": [
      "['i', 'me', 'my', 'myself', 'we', 'our', 'ours', 'ourselves', 'you', \"you're\", \"you've\", \"you'll\", \"you'd\", 'your', 'yours', 'yourself', 'yourselves', 'he', 'him', 'his', 'himself', 'she', \"she's\", 'her', 'hers', 'herself', 'it', \"it's\", 'its', 'itself', 'they', 'them', 'their', 'theirs', 'themselves', 'what', 'which', 'who', 'whom', 'this', 'that', \"that'll\", 'these', 'those', 'am', 'is', 'are', 'was', 'were', 'be', 'been', 'being', 'have', 'has', 'had', 'having', 'do', 'does', 'did', 'doing', 'a', 'an', 'the', 'and', 'but', 'if', 'or', 'because', 'as', 'until', 'while', 'of', 'at', 'by', 'for', 'with', 'about', 'against', 'between', 'into', 'through', 'during', 'before', 'after', 'above', 'below', 'to', 'from', 'up', 'down', 'in', 'out', 'on', 'off', 'over', 'under', 'again', 'further', 'then', 'once', 'here', 'there', 'when', 'where', 'why', 'how', 'all', 'any', 'both', 'each', 'few', 'more', 'most', 'other', 'some', 'such', 'no', 'nor', 'not', 'only', 'own', 'same', 'so', 'than', 'too', 'very', 's', 't', 'can', 'will', 'just', 'don', \"don't\", 'should', \"should've\", 'now', 'd', 'll', 'm', 'o', 're', 've', 'y', 'ain', 'aren', \"aren't\", 'couldn', \"couldn't\", 'didn', \"didn't\", 'doesn', \"doesn't\", 'hadn', \"hadn't\", 'hasn', \"hasn't\", 'haven', \"haven't\", 'isn', \"isn't\", 'ma', 'mightn', \"mightn't\", 'mustn', \"mustn't\", 'needn', \"needn't\", 'shan', \"shan't\", 'shouldn', \"shouldn't\", 'wasn', \"wasn't\", 'weren', \"weren't\", 'won', \"won't\", 'wouldn', \"wouldn't\"]\n"
     ]
    }
   ],
   "source": [
    "print(stop_words)"
   ]
  },
  {
   "cell_type": "code",
   "execution_count": 33,
   "metadata": {},
   "outputs": [],
   "source": [
    "filtered_tokens = [token for token in alpha_tokens if token not in stop_words]"
   ]
  },
  {
   "cell_type": "code",
   "execution_count": 34,
   "metadata": {},
   "outputs": [
    {
     "data": {
      "text/plain": [
       "82"
      ]
     },
     "execution_count": 34,
     "metadata": {},
     "output_type": "execute_result"
    }
   ],
   "source": [
    "len(filtered_tokens)"
   ]
  },
  {
   "cell_type": "code",
   "execution_count": 35,
   "metadata": {},
   "outputs": [
    {
     "name": "stdout",
     "output_type": "stream",
     "text": [
      "['A', 'financial', 'crisis', 'broad', 'variety', 'situations', 'financial', 'assets', 'suddenly', 'lose', 'large', 'part', 'nominal', 'value', 'In', 'early', 'centuries', 'many', 'financial', 'crises', 'associated', 'banking', 'panics', 'many', 'recessions', 'coincided', 'panics', 'Other', 'situations', 'often', 'called', 'financial', 'crises', 'include', 'stock', 'market', 'crashes', 'bursting', 'financial', 'bubbles', 'currency', 'crises', 'sovereign', 'defaults', 'Financial', 'crises', 'directly', 'result', 'loss', 'paper', 'wealth', 'necessarily', 'result', 'significant', 'changes', 'real', 'economy', 'crisis', 'resulting', 'famous', 'tulip', 'mania', 'bubble', 'century', 'Many', 'economists', 'offered', 'theories', 'financial', 'crises', 'develop', 'could', 'prevented', 'There', 'consensus', 'however', 'financial', 'crises', 'continue', 'occur', 'time', 'time']\n"
     ]
    }
   ],
   "source": [
    "print(filtered_tokens)"
   ]
  },
  {
   "cell_type": "markdown",
   "metadata": {},
   "source": [
    "We notice that there are 159 tokens in the original text. After removing punctuations we have 134 alpha tokens. After further removing stop words we are left with 82 tokens"
   ]
  },
  {
   "cell_type": "markdown",
   "metadata": {},
   "source": [
    "### Stemming"
   ]
  },
  {
   "cell_type": "code",
   "execution_count": 55,
   "metadata": {},
   "outputs": [],
   "source": [
    "from nltk.stem.porter import PorterStemmer"
   ]
  },
  {
   "cell_type": "code",
   "execution_count": 56,
   "metadata": {},
   "outputs": [],
   "source": [
    "porter = PorterStemmer()"
   ]
  },
  {
   "cell_type": "code",
   "execution_count": 57,
   "metadata": {},
   "outputs": [],
   "source": [
    "stem_tokens = [porter.stem(token) for token in filtered_tokens]"
   ]
  },
  {
   "cell_type": "code",
   "execution_count": 58,
   "metadata": {},
   "outputs": [
    {
     "data": {
      "text/plain": [
       "82"
      ]
     },
     "execution_count": 58,
     "metadata": {},
     "output_type": "execute_result"
    }
   ],
   "source": [
    "len(stem_tokens)"
   ]
  },
  {
   "cell_type": "code",
   "execution_count": 59,
   "metadata": {},
   "outputs": [
    {
     "name": "stdout",
     "output_type": "stream",
     "text": [
      "['A', 'financi', 'crisi', 'broad', 'varieti', 'situat', 'financi', 'asset', 'suddenli', 'lose', 'larg', 'part', 'nomin', 'valu', 'In', 'earli', 'centuri', 'mani', 'financi', 'crise', 'associ', 'bank', 'panic', 'mani', 'recess', 'coincid', 'panic', 'other', 'situat', 'often', 'call', 'financi', 'crise', 'includ', 'stock', 'market', 'crash', 'burst', 'financi', 'bubbl', 'currenc', 'crise', 'sovereign', 'default', 'financi', 'crise', 'directli', 'result', 'loss', 'paper', 'wealth', 'necessarili', 'result', 'signific', 'chang', 'real', 'economi', 'crisi', 'result', 'famou', 'tulip', 'mania', 'bubbl', 'centuri', 'mani', 'economist', 'offer', 'theori', 'financi', 'crise', 'develop', 'could', 'prevent', 'there', 'consensu', 'howev', 'financi', 'crise', 'continu', 'occur', 'time', 'time']\n"
     ]
    }
   ],
   "source": [
    "print(stem_tokens)"
   ]
  },
  {
   "cell_type": "markdown",
   "metadata": {},
   "source": [
    "As shown above, Porter stemmer performed poorly as it striped of suffixes of words destroying the meaning."
   ]
  }
 ],
 "metadata": {
  "kernelspec": {
   "display_name": "Python 3",
   "language": "python",
   "name": "python3"
  },
  "language_info": {
   "codemirror_mode": {
    "name": "ipython",
    "version": 3
   },
   "file_extension": ".py",
   "mimetype": "text/x-python",
   "name": "python",
   "nbconvert_exporter": "python",
   "pygments_lexer": "ipython3",
   "version": "3.7.4"
  }
 },
 "nbformat": 4,
 "nbformat_minor": 2
}
